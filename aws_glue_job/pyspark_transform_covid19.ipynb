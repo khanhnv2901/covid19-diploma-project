{
	"metadata": {
		"kernelspec": {
			"name": "glue_pyspark",
			"display_name": "Glue PySpark",
			"language": "python"
		},
		"language_info": {
			"name": "Python_Glue_Session",
			"mimetype": "text/x-python",
			"codemirror_mode": {
				"name": "python",
				"version": 3
			},
			"pygments_lexer": "python3",
			"file_extension": ".py"
		}
	},
	"nbformat_minor": 4,
	"nbformat": 4,
	"cells": [
		{
			"cell_type": "markdown",
			"source": "# AWS Glue Studio Notebook\n##### You are now running a AWS Glue Studio notebook; To start using your notebook you need to start an AWS Glue Interactive Session.\n",
			"metadata": {
				"editable": true,
				"trusted": true
			}
		},
		{
			"cell_type": "markdown",
			"source": "#### Optional: Run this cell to see available notebook commands (\"magics\").\n",
			"metadata": {
				"editable": true,
				"trusted": true
			}
		},
		{
			"cell_type": "markdown",
			"source": "####  Run this cell to set up and start your interactive session.\n",
			"metadata": {
				"editable": true,
				"trusted": true
			}
		},
		{
			"cell_type": "code",
			"source": "%idle_timeout 2880\n%glue_version 3.0\n%worker_type G.1X\n%number_of_workers 5\n\nimport sys\nfrom awsglue.transforms import *\nfrom awsglue.utils import getResolvedOptions\nfrom pyspark.context import SparkContext\nfrom awsglue.context import GlueContext\nfrom awsglue.job import Job\n  \nsc = SparkContext.getOrCreate()\nglueContext = GlueContext(sc)\nspark = glueContext.spark_session\njob = Job(glueContext)",
			"metadata": {
				"editable": true,
				"trusted": true
			},
			"execution_count": 3,
			"outputs": [
				{
					"name": "stderr",
					"text": "You are already connected to a glueetl session 60651a68-2a8a-42f4-bf71-19d30d4a4a6e.\n\nNo change will be made to the current session that is set as glueetl. The session configuration change will apply to newly created sessions.\n",
					"output_type": "stream"
				},
				{
					"name": "stdout",
					"text": "Current idle_timeout is 2880 minutes.\nidle_timeout has been set to 2880 minutes.\n",
					"output_type": "stream"
				},
				{
					"name": "stderr",
					"text": "You are already connected to a glueetl session 60651a68-2a8a-42f4-bf71-19d30d4a4a6e.\n\nNo change will be made to the current session that is set as glueetl. The session configuration change will apply to newly created sessions.\n",
					"output_type": "stream"
				},
				{
					"name": "stdout",
					"text": "Setting Glue version to: 3.0\n",
					"output_type": "stream"
				},
				{
					"name": "stderr",
					"text": "You are already connected to a glueetl session 60651a68-2a8a-42f4-bf71-19d30d4a4a6e.\n\nNo change will be made to the current session that is set as glueetl. The session configuration change will apply to newly created sessions.\n",
					"output_type": "stream"
				},
				{
					"name": "stdout",
					"text": "Previous worker type: G.1X\nSetting new worker type to: G.1X\n",
					"output_type": "stream"
				},
				{
					"name": "stderr",
					"text": "You are already connected to a glueetl session 60651a68-2a8a-42f4-bf71-19d30d4a4a6e.\n\nNo change will be made to the current session that is set as glueetl. The session configuration change will apply to newly created sessions.\n",
					"output_type": "stream"
				},
				{
					"name": "stdout",
					"text": "Previous number of workers: 5\nSetting new number of workers to: 5\n\n",
					"output_type": "stream"
				}
			]
		},
		{
			"cell_type": "code",
			"source": "# read data from table of glue cata log\nenigma_jhu_dyf = glueContext.create_dynamic_frame.from_catalog(database='covid_19', table_name='enigma_jhu')\nnytimes_data_in_usa_us_county_dyf = glueContext.create_dynamic_frame.from_catalog(database='covid_19', table_name='nytimes_data_in_usa_us_county')\nnytimes_data_in_usa_us_states_dyf = glueContext.create_dynamic_frame.from_catalog(database='covid_19', table_name='nytimes_data_in_usa_us_states')\nrearc_covid19_testing_states_daily_dyf = glueContext.create_dynamic_frame.from_catalog(database='covid_19', table_name='rearc_covid19_testing_states_daily')\nrearc_covid19_testing_us_daily_dyf = glueContext.create_dynamic_frame.from_catalog(database='covid_19', table_name='rearc_covid19_testing_us_daily')\nrearc_covid19_testing_us_total_latest_dyf = glueContext.create_dynamic_frame.from_catalog(database='covid_19', table_name='rearc_covid19_testing_us_total_latest')\nrearc_usa_hospital_beds_dyf = glueContext.create_dynamic_frame.from_catalog(database='covid_19', table_name='rearc_usa_hospital_beds')\nstatic_dataset_countrycode_dyf = glueContext.create_dynamic_frame.from_catalog(database='covid_19', table_name='static_dataset_countrycode')\nstatic_dataset_countypopulation_dyf = glueContext.create_dynamic_frame.from_catalog(database='covid_19', table_name='static_dataset_countypopulation')\nstatic_dataset_state_abv_dyf = glueContext.create_dynamic_frame.from_catalog(database='covid_19', table_name='static_dataset_state_abv')",
			"metadata": {
				"editable": true,
				"trusted": true
			},
			"execution_count": 6,
			"outputs": [
				{
					"name": "stdout",
					"text": "\n",
					"output_type": "stream"
				}
			]
		},
		{
			"cell_type": "code",
			"source": "# change to spark dataframe\nenigma_jhu_df = enigma_jhu_dyf.toDF()\nnytimes_data_in_usa_us_county_df = nytimes_data_in_usa_us_county_dyf.toDF()\nnytimes_data_in_usa_us_states_df = nytimes_data_in_usa_us_states_dyf.toDF()\nrearc_covid19_testing_states_daily_df = rearc_covid19_testing_states_daily_dyf.toDF()\nrearc_covid19_testing_us_daily_df =rearc_covid19_testing_us_daily_dyf.toDF()\nrearc_covid19_testing_us_total_latest_df = rearc_covid19_testing_us_total_latest_dyf.toDF()\nrearc_usa_hospital_beds_df = rearc_usa_hospital_beds_dyf.toDF()\nstatic_dataset_countrycode_df = static_dataset_countrycode_dyf.toDF()\nstatic_dataset_countypopulation_df = static_dataset_countypopulation_dyf.toDF()\nstatic_dataset_state_abv_df = static_dataset_state_abv_dyf.toDF()",
			"metadata": {
				"trusted": true
			},
			"execution_count": 9,
			"outputs": [
				{
					"name": "stdout",
					"text": "\n",
					"output_type": "stream"
				}
			]
		},
		{
			"cell_type": "code",
			"source": "",
			"metadata": {
				"trusted": true
			},
			"execution_count": 65,
			"outputs": [
				{
					"name": "stdout",
					"text": "\n",
					"output_type": "stream"
				}
			]
		},
		{
			"cell_type": "markdown",
			"source": "#### Handle county level fips code",
			"metadata": {}
		},
		{
			"cell_type": "code",
			"source": "enigma_jhu_df.show(5)",
			"metadata": {
				"trusted": true
			},
			"execution_count": 10,
			"outputs": [
				{
					"name": "stdout",
					"text": "+------+--------------+--------------+-------------------+--------+---------+---------+------+---------------+---------+----+------+\n|admin2|province_state|country_region|        last_update|latitude|longitude|confirmed|active|   combined_key|recovered|fips|deaths|\n+------+--------------+--------------+-------------------+--------+---------+---------+------+---------------+---------+----+------+\n|      |      Liaoning|         China|2020-01-22T17:00:00|  41.296|  122.609|        2|      |Liaoning, China|     null|null|  null|\n|      |       Beijing|         China|2020-01-23T17:00:00|  40.182|  116.414|       22|      | Beijing, China|     null|null|  null|\n|      |       Ningxia|         China|2020-01-23T17:00:00|  37.269|  106.165|        1|      | Ningxia, China|     null|null|  null|\n|      |              |       Vietnam|2020-01-23T17:00:00|    16.0|    108.0|        2|      |        Vietnam|     null|null|  null|\n|      |           Hai|         China|2020-01-24T17:00:00|  19.196|  109.745|        8|      |     Hai, China|     null|null|  null|\n+------+--------------+--------------+-------------------+--------+---------+---------+------+---------------+---------+----+------+\nonly showing top 5 rows\n",
					"output_type": "stream"
				}
			]
		},
		{
			"cell_type": "code",
			"source": "from pyspark.sql.functions import when, length, concat, col, format_string",
			"metadata": {
				"trusted": true
			},
			"execution_count": 17,
			"outputs": [
				{
					"name": "stdout",
					"text": "\n",
					"output_type": "stream"
				}
			]
		},
		{
			"cell_type": "code",
			"source": "# fips code of county-level\n# and then add '0' before 4 digit fips code\n# and only take rows that have 5 digit fips and in range(01000, 56045) \nenigma_jhu_df = enigma_jhu_df.withColumnRenamed('fips', 'old_fips') \\\n    .withColumn('fips', format_string(\"%05d\", col('old_fips').cast('int'))) \\\n    .drop('old_fips') \\\n    .filter((col('fips').rlike('^[0-9]{5}$')) & (col('fips') >= '01000') & (col('fips') <= '56045'))\n\nnytimes_data_in_usa_us_county_df = nytimes_data_in_usa_us_county_df.withColumnRenamed('fips', 'old_fips') \\\n    .withColumn('fips', format_string(\"%05d\", col('old_fips').cast('int'))) \\\n    .drop('old_fips') \\\n    .filter((col('fips').rlike('^[0-9]{5}$')) & (col('fips') >= '01000') & (col('fips') <= '56045'))\n\nrearc_usa_hospital_beds_df = rearc_usa_hospital_beds_df.withColumnRenamed('fips', 'old_fips') \\\n    .withColumn('fips', format_string(\"%05d\", col('old_fips').cast('int'))) \\\n    .drop('old_fips') \\\n    .filter((col('fips').rlike('^[0-9]{5}$')) & (col('fips') >= '01000') & (col('fips') <= '56045'))\n                    ",
			"metadata": {
				"trusted": true
			},
			"execution_count": 31,
			"outputs": [
				{
					"name": "stdout",
					"text": "\n",
					"output_type": "stream"
				}
			]
		},
		{
			"cell_type": "code",
			"source": "enigma_jhu_df.show(10)",
			"metadata": {
				"trusted": true
			},
			"execution_count": 32,
			"outputs": [
				{
					"name": "stdout",
					"text": "+------------+--------------+--------------+-------------------+--------+---------+---------+------+--------------------+---------+------+-----+\n|      admin2|province_state|country_region|        last_update|latitude|longitude|confirmed|active|        combined_key|recovered|deaths| fips|\n+------------+--------------+--------------+-------------------+--------+---------+---------+------+--------------------+---------+------+-----+\n|  San Benito|    California|            US|2020-02-03T03:53:02|  36.576| -120.988|        2|      |San Benito, Calif...|        0|     0|06069|\n|        King|    Washington|            US|2020-03-02T20:23:16|  47.548| -121.984|       14|      |King, Washington, US|        1|     5|53033|\n|        King|    Washington|            US|2020-03-04T19:53:02|  47.548| -121.984|       31|      |King, Washington, US|        1|     9|53033|\n|   Snohomish|    Washington|            US|2020-03-04T19:53:02|  48.033| -121.834|        8|      |Snohomish, Washin...|        0|     1|53061|\n|Contra Costa|    California|            US|2020-03-06T19:43:02|  37.853| -121.902|        3|      |Contra Costa, Cal...|        0|     0|06013|\n|   Jefferson|    Washington|            US|2020-03-07T16:43:02|  47.742| -123.304|        1|      |Jefferson, Washin...|        0|     0|53031|\n| Los Angeles|    California|            US|2020-03-08T01:13:48|  34.052| -118.244|       14|      |Los Angeles, Cali...|        0|     0|06037|\n|     Norfolk| Massachusetts|            US|2020-03-08T21:13:14|  42.177|  -71.145|        6|      |Norfolk, Massachu...|        0|     0|25021|\n|     Harford|      Maryland|            US|2020-03-08T21:53:03|  39.584|  -76.364|        1|      |Harford, Maryland...|        0|     0|24025|\n| Spartanburg|South Carolina|            US|2020-03-09T00:03:07|  34.861|  -81.954|        1|      |Spartanburg, Sout...|        0|     0|45083|\n+------------+--------------+--------------+-------------------+--------+---------+---------+------+--------------------+---------+------+-----+\nonly showing top 10 rows\n",
					"output_type": "stream"
				}
			]
		},
		{
			"cell_type": "code",
			"source": "# rename 'admin2' column to 'county' column\nenigma_jhu_df = enigma_jhu_df.withColumnRenamed('admin2', 'county')",
			"metadata": {
				"trusted": true
			},
			"execution_count": 34,
			"outputs": [
				{
					"name": "stdout",
					"text": "\n",
					"output_type": "stream"
				}
			]
		},
		{
			"cell_type": "code",
			"source": "enigma_jhu_df.show(10)",
			"metadata": {
				"trusted": true
			},
			"execution_count": 35,
			"outputs": [
				{
					"name": "stdout",
					"text": "+------------+--------------+--------------+-------------------+--------+---------+---------+------+--------------------+---------+------+-----+\n|      county|province_state|country_region|        last_update|latitude|longitude|confirmed|active|        combined_key|recovered|deaths| fips|\n+------------+--------------+--------------+-------------------+--------+---------+---------+------+--------------------+---------+------+-----+\n|  San Benito|    California|            US|2020-02-03T03:53:02|  36.576| -120.988|        2|      |San Benito, Calif...|        0|     0|06069|\n|        King|    Washington|            US|2020-03-02T20:23:16|  47.548| -121.984|       14|      |King, Washington, US|        1|     5|53033|\n|        King|    Washington|            US|2020-03-04T19:53:02|  47.548| -121.984|       31|      |King, Washington, US|        1|     9|53033|\n|   Snohomish|    Washington|            US|2020-03-04T19:53:02|  48.033| -121.834|        8|      |Snohomish, Washin...|        0|     1|53061|\n|Contra Costa|    California|            US|2020-03-06T19:43:02|  37.853| -121.902|        3|      |Contra Costa, Cal...|        0|     0|06013|\n|   Jefferson|    Washington|            US|2020-03-07T16:43:02|  47.742| -123.304|        1|      |Jefferson, Washin...|        0|     0|53031|\n| Los Angeles|    California|            US|2020-03-08T01:13:48|  34.052| -118.244|       14|      |Los Angeles, Cali...|        0|     0|06037|\n|     Norfolk| Massachusetts|            US|2020-03-08T21:13:14|  42.177|  -71.145|        6|      |Norfolk, Massachu...|        0|     0|25021|\n|     Harford|      Maryland|            US|2020-03-08T21:53:03|  39.584|  -76.364|        1|      |Harford, Maryland...|        0|     0|24025|\n| Spartanburg|South Carolina|            US|2020-03-09T00:03:07|  34.861|  -81.954|        1|      |Spartanburg, Sout...|        0|     0|45083|\n+------------+--------------+--------------+-------------------+--------+---------+---------+------+--------------------+---------+------+-----+\nonly showing top 10 rows\n",
					"output_type": "stream"
				}
			]
		},
		{
			"cell_type": "code",
			"source": "# now check the nytimes_data_in_usa_us_county_df \nnytimes_data_in_usa_us_county_df.show(10)",
			"metadata": {
				"trusted": true
			},
			"execution_count": 67,
			"outputs": [
				{
					"name": "stdout",
					"text": "+----------+-----------+----------+-----+------+-----+\n|      date|     county|     state|cases|deaths| fips|\n+----------+-----------+----------+-----+------+-----+\n|2020-01-21|  Snohomish|Washington|    1|     0|53061|\n|2020-01-22|  Snohomish|Washington|    1|     0|53061|\n|2020-01-23|  Snohomish|Washington|    1|     0|53061|\n|2020-01-24|       Cook|  Illinois|    1|     0|17031|\n|2020-01-24|  Snohomish|Washington|    1|     0|53061|\n|2020-01-25|     Orange|California|    1|     0|06059|\n|2020-01-25|       Cook|  Illinois|    1|     0|17031|\n|2020-01-25|  Snohomish|Washington|    1|     0|53061|\n|2020-01-26|   Maricopa|   Arizona|    1|     0|04013|\n|2020-01-26|Los Angeles|California|    1|     0|06037|\n+----------+-----------+----------+-----+------+-----+\nonly showing top 10 rows\n",
					"output_type": "stream"
				}
			]
		},
		{
			"cell_type": "code",
			"source": "# check rearc_usa_hospital_beds_df\nrearc_usa_hospital_beds_df.show(10)",
			"metadata": {
				"trusted": true
			},
			"execution_count": 37,
			"outputs": [
				{
					"name": "stdout",
					"text": "+--------+--------------------+--------------------+--------------------+-----------+-----------+--------+-----------+--------------------+--------------------+----------+---------+-----------------+----------------+------------+--------------+-------------+---------------+--------------------+-------------------------------+------------------+-------------------+-----+\n|OBJECTID|       HOSPITAL_NAME|       HOSPITAL_TYPE|          HQ_ADDRESS|HQ_ADDRESS1|    HQ_CITY|HQ_STATE|HQ_ZIP_CODE|         COUNTY_NAME|          STATE_NAME|STATE_FIPS|CNTY_FIPS|NUM_LICENSED_BEDS|NUM_STAFFED_BEDS|NUM_ICU_BEDS|ADULT_ICU_BEDS|PEDI_ICU_BEDS|BED_UTILIZATION|AVG_VENTILATOR_USAGE|Potential_Increase_In_Bed_Capac|          latitude|         longtitude| fips|\n+--------+--------------------+--------------------+--------------------+-----------+-----------+--------+-----------+--------------------+--------------------+----------+---------+-----------------+----------------+------------+--------------+-------------+---------------+--------------------+-------------------------------+------------------+-------------------+-----+\n|       1|Phoenix VA Health...|         VA Hospital|650 E Indian Scho...|       null|    Phoenix|      AZ|      85012|            Maricopa|             Arizona|        04|      013|              129|             129|           0|             0|         null|           null|                 0.0|                              0| 33.49549780000007|-112.06615689999995|04013|\n|       2|Southern Arizona ...|         VA Hospital|      3601 S 6th Ave|       null|     Tucson|      AZ|      85723|                Pima|             Arizona|        04|      019|              295|             295|           2|             2|         null|           null|                 2.0|                              0|32.181263400000034|-110.96588519999995|04019|\n|       3|VA Central Califo...|         VA Hospital|  2615 E Clinton Ave|       null|     Fresno|      CA|      93703|              Fresno|          California|        06|      019|               57|              57|           2|             2|         null|           null|                 2.0|                              0| 36.77332350000006|-119.77974209999996|06019|\n|       4|VA Connecticut He...|         VA Hospital|    950 Campbell Ave|       null| West Haven|      CT|       6516|           New Haven|         Connecticut|        09|      009|              216|             216|           1|             1|         null|           null|                 2.0|                              0| 41.28440040000004| -72.95761029999994|09009|\n|       5|Wilmington VA Med...|         VA Hospital|   1601 Kirkwood Hwy|       null| Wilmington|      DE|      19805|          New Castle|            Delaware|        10|      003|               60|              60|           0|             0|         null|           null|                 1.0|                              0| 39.74020630000007| -75.60653249999996|10003|\n|       6|Washington DC VA ...|         VA Hospital|     50 Irving St Nw|       null| Washington|      DC|      20422|District of Columbia|District of Columbia|        11|      001|              164|             164|           1|             1|         null|           null|                 2.0|                              0| 38.93068230000006| -77.01119479999994|11001|\n|       7|North Florida/Sou...|         VA Hospital|   1601 Sw Archer Rd|       null|Gainesville|      FL|      32608|             Alachua|             Florida|        12|      001|              432|             289|           2|             2|         null|           null|                 2.0|                            143|29.636988900000063|         -82.345254|12001|\n|       8|Boise VA Medical ...|         VA Hospital|       500 W Fort St|       null|      Boise|      ID|      83702|                 Ada|               Idaho|        16|      001|               46|              46|           1|             1|         null|           null|                 1.0|                              0|         43.621035|-116.19018449999999|16001|\n|       9|Overton Brooks VA...|         VA Hospital|    510 E Stoner Ave|       null| Shreveport|      LA|      71101|               Caddo|           Louisiana|        22|      017|              111|             111|           1|             1|         null|           null|                 2.0|                              0| 32.50310080000003| -93.72168259999995|22017|\n|      10|Merit Health Rive...|Short Term Acute ...|  1030 River Oaks Dr|       null|    Flowood|      MS|      39232|              Rankin|         Mississippi|        28|      121|              160|             160|          10|            10|         20.0|     0.27986822|                 2.0|                              0| 32.32548710000003| -90.10530849999998|28121|\n+--------+--------------------+--------------------+--------------------+-----------+-----------+--------+-----------+--------------------+--------------------+----------+---------+-----------------+----------------+------------+--------------+-------------+---------------+--------------------+-------------------------------+------------------+-------------------+-----+\nonly showing top 10 rows\n",
					"output_type": "stream"
				}
			]
		},
		{
			"cell_type": "code",
			"source": "# validate 5 digit zip code\nrearc_usa_hospital_beds_df = rearc_usa_hospital_beds_df.withColumnRenamed('hq_zip_code', 'old_hq_zip_code') \\\n    .withColumn('hq_zip_code', format_string(\"%05d\", col('old_hq_zip_code').cast('int'))) \\\n    .drop('old_hq_zip_code')",
			"metadata": {
				"trusted": true
			},
			"execution_count": 39,
			"outputs": [
				{
					"name": "stdout",
					"text": "\n",
					"output_type": "stream"
				}
			]
		},
		{
			"cell_type": "code",
			"source": "# drop column hq_address1\nrearc_usa_hospital_beds_df = rearc_usa_hospital_beds_df.drop('hq_address1')",
			"metadata": {
				"trusted": true
			},
			"execution_count": 41,
			"outputs": [
				{
					"name": "stdout",
					"text": "\n",
					"output_type": "stream"
				}
			]
		},
		{
			"cell_type": "code",
			"source": "rearc_usa_hospital_beds_df.show(5)",
			"metadata": {
				"trusted": true
			},
			"execution_count": 42,
			"outputs": [
				{
					"name": "stdout",
					"text": "+--------+--------------------+-------------+--------------------+----------+--------+-----------+-----------+----------+---------+-----------------+----------------+------------+--------------+-------------+---------------+--------------------+-------------------------------+------------------+-------------------+-----+-----------+\n|OBJECTID|       HOSPITAL_NAME|HOSPITAL_TYPE|          HQ_ADDRESS|   HQ_CITY|HQ_STATE|COUNTY_NAME| STATE_NAME|STATE_FIPS|CNTY_FIPS|NUM_LICENSED_BEDS|NUM_STAFFED_BEDS|NUM_ICU_BEDS|ADULT_ICU_BEDS|PEDI_ICU_BEDS|BED_UTILIZATION|AVG_VENTILATOR_USAGE|Potential_Increase_In_Bed_Capac|          latitude|         longtitude| fips|hq_zip_code|\n+--------+--------------------+-------------+--------------------+----------+--------+-----------+-----------+----------+---------+-----------------+----------------+------------+--------------+-------------+---------------+--------------------+-------------------------------+------------------+-------------------+-----+-----------+\n|       1|Phoenix VA Health...|  VA Hospital|650 E Indian Scho...|   Phoenix|      AZ|   Maricopa|    Arizona|        04|      013|              129|             129|           0|             0|         null|           null|                 0.0|                              0| 33.49549780000007|-112.06615689999995|04013|      85012|\n|       2|Southern Arizona ...|  VA Hospital|      3601 S 6th Ave|    Tucson|      AZ|       Pima|    Arizona|        04|      019|              295|             295|           2|             2|         null|           null|                 2.0|                              0|32.181263400000034|-110.96588519999995|04019|      85723|\n|       3|VA Central Califo...|  VA Hospital|  2615 E Clinton Ave|    Fresno|      CA|     Fresno| California|        06|      019|               57|              57|           2|             2|         null|           null|                 2.0|                              0| 36.77332350000006|-119.77974209999996|06019|      93703|\n|       4|VA Connecticut He...|  VA Hospital|    950 Campbell Ave|West Haven|      CT|  New Haven|Connecticut|        09|      009|              216|             216|           1|             1|         null|           null|                 2.0|                              0| 41.28440040000004| -72.95761029999994|09009|      06516|\n|       5|Wilmington VA Med...|  VA Hospital|   1601 Kirkwood Hwy|Wilmington|      DE| New Castle|   Delaware|        10|      003|               60|              60|           0|             0|         null|           null|                 1.0|                              0| 39.74020630000007| -75.60653249999996|10003|      19805|\n+--------+--------------------+-------------+--------------------+----------+--------+-----------+-----------+----------+---------+-----------------+----------------+------------+--------------+-------------+---------------+--------------------+-------------------------------+------------------+-------------------+-----+-----------+\nonly showing top 5 rows\n",
					"output_type": "stream"
				}
			]
		},
		{
			"cell_type": "code",
			"source": "enigma_jhu_df = enigma_jhu_df.withColumnRenamed('fips', 'county_fips')\nnytimes_data_in_usa_us_county_df = nytimes_data_in_usa_us_county_df.withColumnRenamed('fips', 'county_fips')\nrearc_usa_hospital_beds_df = rearc_usa_hospital_beds_df.withColumnRenamed('fips', 'county_fips')",
			"metadata": {
				"trusted": true
			},
			"execution_count": 43,
			"outputs": [
				{
					"name": "stdout",
					"text": "\n",
					"output_type": "stream"
				}
			]
		},
		{
			"cell_type": "markdown",
			"source": "#### Handle state level fips code",
			"metadata": {}
		},
		{
			"cell_type": "code",
			"source": "rearc_covid19_testing_states_daily_df = rearc_covid19_testing_states_daily_df.withColumn('state_fips', format_string(\"%02d\", col('fips').cast('int'))) \\\n    .drop('fips') \\\n    .filter((col('state_fips').rlike('^[0-9]{2}$')) & (col('state_fips') >= '01') & (col('state_fips') <= '56'))\nrearc_covid19_testing_us_daily_df = rearc_covid19_testing_us_daily_df.withColumn('state_fips', format_string(\"%02d\", col('states').cast('int'))) \\\n    .drop('states') \\\n    .filter((col('state_fips').rlike('^[0-9]{2}$')) & (col('state_fips') >= '01') & (col('state_fips') <= '56'))\n",
			"metadata": {
				"trusted": true
			},
			"execution_count": 48,
			"outputs": [
				{
					"name": "stdout",
					"text": "\n",
					"output_type": "stream"
				}
			]
		},
		{
			"cell_type": "code",
			"source": "rearc_covid19_testing_us_daily_df.select('state_fips').show(10)",
			"metadata": {
				"trusted": true
			},
			"execution_count": 52,
			"outputs": [
				{
					"name": "stdout",
					"text": "+----------+\n|state_fips|\n+----------+\n|        56|\n|        56|\n|        56|\n|        56|\n|        56|\n|        56|\n|        56|\n|        56|\n|        56|\n|        56|\n+----------+\nonly showing top 10 rows\n",
					"output_type": "stream"
				}
			]
		},
		{
			"cell_type": "markdown",
			"source": "#### handle date in data",
			"metadata": {}
		},
		{
			"cell_type": "code",
			"source": "from pyspark.sql.functions import to_date, date_format, col, to_timestamp ",
			"metadata": {
				"trusted": true
			},
			"execution_count": 76,
			"outputs": [
				{
					"name": "stdout",
					"text": "\n",
					"output_type": "stream"
				}
			]
		},
		{
			"cell_type": "code",
			"source": "rearc_covid19_testing_states_daily_df = rearc_covid19_testing_states_daily_df.withColumn('date_str', col('date').cast('string'))\nrearc_covid19_testing_states_daily_df = rearc_covid19_testing_states_daily_df.withColumn('timestamp',  to_timestamp(\"date_str\", \"yyyyMMdd\"))\nrearc_covid19_testing_states_daily_df = rearc_covid19_testing_states_daily_df.withColumn('date', date_format('timestamp', 'yyyy-MM-dd'))",
			"metadata": {
				"trusted": true
			},
			"execution_count": 106,
			"outputs": [
				{
					"name": "stdout",
					"text": "\n",
					"output_type": "stream"
				}
			]
		},
		{
			"cell_type": "code",
			"source": "rearc_covid19_testing_states_daily_df = rearc_covid19_testing_states_daily_df.drop('date_str')\nrearc_covid19_testing_states_daily_df = rearc_covid19_testing_states_daily_df.drop('timestamp')",
			"metadata": {
				"trusted": true
			},
			"execution_count": 108,
			"outputs": [
				{
					"name": "stdout",
					"text": "\n",
					"output_type": "stream"
				}
			]
		},
		{
			"cell_type": "code",
			"source": "rearc_covid19_testing_states_daily_df.select('date').show(5)",
			"metadata": {
				"trusted": true
			},
			"execution_count": 110,
			"outputs": [
				{
					"name": "stdout",
					"text": "+----------+\n|      date|\n+----------+\n|2021-03-07|\n|2021-03-07|\n|2021-03-07|\n|2021-03-07|\n|2021-03-07|\n+----------+\nonly showing top 5 rows\n",
					"output_type": "stream"
				}
			]
		},
		{
			"cell_type": "code",
			"source": "rearc_covid19_testing_us_daily_df = rearc_covid19_testing_us_daily_df.withColumn('date_str', col('date').cast('string'))\nrearc_covid19_testing_us_daily_df = rearc_covid19_testing_us_daily_df.withColumn('timestamp',  to_timestamp(\"date_str\", \"yyyyMMdd\"))\nrearc_covid19_testing_us_daily_df = rearc_covid19_testing_us_daily_df.withColumn('date', date_format('timestamp', 'yyyy-MM-dd'))",
			"metadata": {
				"trusted": true
			},
			"execution_count": 111,
			"outputs": [
				{
					"name": "stdout",
					"text": "\n",
					"output_type": "stream"
				}
			]
		},
		{
			"cell_type": "code",
			"source": "rearc_covid19_testing_us_daily_df = rearc_covid19_testing_us_daily_df.drop('date_str')\nrearc_covid19_testing_us_daily_df = rearc_covid19_testing_us_daily_df.drop('timestamp')",
			"metadata": {
				"trusted": true
			},
			"execution_count": 112,
			"outputs": [
				{
					"name": "stdout",
					"text": "\n",
					"output_type": "stream"
				}
			]
		},
		{
			"cell_type": "code",
			"source": "rearc_covid19_testing_us_daily_df.select('date').show(5)",
			"metadata": {
				"trusted": true
			},
			"execution_count": 113,
			"outputs": [
				{
					"name": "stdout",
					"text": "+----------+\n|      date|\n+----------+\n|2021-03-07|\n|2021-03-06|\n|2021-03-05|\n|2021-03-04|\n|2021-03-03|\n+----------+\nonly showing top 5 rows\n",
					"output_type": "stream"
				}
			]
		},
		{
			"cell_type": "code",
			"source": "nytimes_data_in_usa_us_states_df.select('date').show(5)",
			"metadata": {
				"trusted": true
			},
			"execution_count": 114,
			"outputs": [
				{
					"name": "stdout",
					"text": "+----------+\n|      date|\n+----------+\n|2020-01-21|\n|2020-01-22|\n|2020-01-23|\n|2020-01-24|\n|2020-01-24|\n+----------+\nonly showing top 5 rows\n",
					"output_type": "stream"
				}
			]
		},
		{
			"cell_type": "code",
			"source": "nytimes_data_in_usa_us_county_df.select('date').show(5)",
			"metadata": {
				"trusted": true
			},
			"execution_count": 115,
			"outputs": [
				{
					"name": "stdout",
					"text": "+----------+\n|      date|\n+----------+\n|2020-01-21|\n|2020-01-22|\n|2020-01-23|\n|2020-01-24|\n|2020-01-24|\n+----------+\nonly showing top 5 rows\n",
					"output_type": "stream"
				}
			]
		},
		{
			"cell_type": "markdown",
			"source": "#### Handle null value",
			"metadata": {}
		},
		{
			"cell_type": "code",
			"source": "from pyspark.sql.functions import isnull",
			"metadata": {
				"trusted": true
			},
			"execution_count": 116,
			"outputs": [
				{
					"name": "stdout",
					"text": "\n",
					"output_type": "stream"
				}
			]
		},
		{
			"cell_type": "code",
			"source": "for col_name in rearc_usa_hospital_beds_df.columns:\n    # Check for null values\n    if rearc_usa_hospital_beds_df.filter(col(col_name).isNull()).count() > 0:\n        # Replace null values with 0\n        rearc_usa_hospital_beds_df = rearc_usa_hospital_beds_df.fillna({col_name: 0})",
			"metadata": {
				"trusted": true
			},
			"execution_count": 138,
			"outputs": [
				{
					"name": "stdout",
					"text": "\n",
					"output_type": "stream"
				}
			]
		},
		{
			"cell_type": "code",
			"source": "for col_name in rearc_covid19_testing_states_daily_df.columns:\n    # Check for null values\n    if rearc_covid19_testing_states_daily_df.filter(col(col_name).isNull()).count() > 0:\n        # Replace null values with 0\n        rearc_covid19_testing_states_daily_df = rearc_covid19_testing_states_daily_df.fillna({col_name: 0})",
			"metadata": {
				"trusted": true
			},
			"execution_count": 141,
			"outputs": [
				{
					"name": "stdout",
					"text": "\n",
					"output_type": "stream"
				}
			]
		},
		{
			"cell_type": "code",
			"source": "for col_name in rearc_covid19_testing_us_daily_df.columns:\n    # Check for null values\n    if rearc_covid19_testing_us_daily_df.filter(col(col_name).isNull()).count() > 0:\n        # Replace null values with 0\n        rearc_covid19_testing_us_daily_df = rearc_covid19_testing_us_daily_df.fillna({col_name: 0})",
			"metadata": {
				"trusted": true
			},
			"execution_count": 142,
			"outputs": [
				{
					"name": "stdout",
					"text": "\n",
					"output_type": "stream"
				}
			]
		},
		{
			"cell_type": "markdown",
			"source": "### Write donw data into S3 location",
			"metadata": {}
		},
		{
			"cell_type": "code",
			"source": "# Import Dynamic DataFrame class\nfrom awsglue.dynamicframe import DynamicFrame",
			"metadata": {
				"trusted": true
			},
			"execution_count": 143,
			"outputs": [
				{
					"name": "stdout",
					"text": "\n",
					"output_type": "stream"
				}
			]
		},
		{
			"cell_type": "code",
			"source": "#Convert from Spark Data Frame to Glue Dynamic Frame\nenigma_jhu_dyf = DynamicFrame.fromDF(enigma_jhu_df, glueContext, \"convert\")",
			"metadata": {
				"trusted": true
			},
			"execution_count": 145,
			"outputs": [
				{
					"name": "stdout",
					"text": "\n",
					"output_type": "stream"
				}
			]
		},
		{
			"cell_type": "code",
			"source": "nytimes_data_in_usa_us_county_dyf = DynamicFrame.fromDF(nytimes_data_in_usa_us_county_df, glueContext, \"convert\")\nnytimes_data_in_usa_us_states_dyf = DynamicFrame.fromDF(nytimes_data_in_usa_us_states_df, glueContext, \"convert\")\nrearc_covid19_testing_states_daily_dyf = DynamicFrame.fromDF(rearc_covid19_testing_states_daily_df, glueContext, \"convert\")\nrearc_covid19_testing_us_daily_dyf = DynamicFrame.fromDF(rearc_covid19_testing_us_daily_df, glueContext, \"convert\")\nrearc_covid19_testing_us_total_latest_dyf = DynamicFrame.fromDF(rearc_covid19_testing_us_total_latest_df, glueContext, \"convert\")\nrearc_usa_hospital_beds_dyf = DynamicFrame.fromDF(rearc_usa_hospital_beds_df, glueContext, \"convert\")\nstatic_dataset_countrycode_dyf = DynamicFrame.fromDF(static_dataset_countrycode_df, glueContext, \"convert\")\nstatic_dataset_countypopulation_dyf = DynamicFrame.fromDF(static_dataset_countypopulation_df, glueContext, \"convert\")\nstatic_dataset_state_abv_dyf = DynamicFrame.fromDF(static_dataset_state_abv_df, glueContext, \"convert\")",
			"metadata": {
				"trusted": true
			},
			"execution_count": 146,
			"outputs": [
				{
					"name": "stdout",
					"text": "\n",
					"output_type": "stream"
				}
			]
		},
		{
			"cell_type": "code",
			"source": "# write down the data in converted Dynamic Frame to S3 location.\nenigma_jhu_dyf = enigma_jhu_dyf.repartition(1)\nglueContext.write_dynamic_frame.from_options(\n                            frame = enigma_jhu_dyf,\n                            connection_type=\"s3\", \n                            connection_options = {\n                                \"path\": \"s3://khanhnv-covid19-result-bucket/output_result/\",\n                                \"partitionKeys\": []\n                            }, \n                            format = \"csv\", \n                            format_options={\n                                \"separator\": \",\"\n                                },\n                            transformation_ctx = \"datasink2\")",
			"metadata": {
				"trusted": true
			},
			"execution_count": 164,
			"outputs": [
				{
					"name": "stdout",
					"text": "<awsglue.dynamicframe.DynamicFrame object at 0x7faade758c90>\n",
					"output_type": "stream"
				}
			]
		},
		{
			"cell_type": "code",
			"source": "# write down the data in converted Dynamic Frame to S3 location.\nnytimes_data_in_usa_us_county_dyf = nytimes_data_in_usa_us_county_dyf.repartition(1)\nglueContext.write_dynamic_frame.from_options(\n                            frame = nytimes_data_in_usa_us_county_dyf,\n                            connection_type=\"s3\", \n                            connection_options = {\n                                \"path\": \"s3://khanhnv-covid19-result-bucket/output_result/\",\n                                \"partitionKeys\": []\n                            }, \n                            format = \"csv\", \n                            format_options={\n                                \"separator\": \",\"\n                                },\n                            transformation_ctx = \"datasink2\")",
			"metadata": {
				"trusted": true
			},
			"execution_count": 165,
			"outputs": [
				{
					"name": "stdout",
					"text": "<awsglue.dynamicframe.DynamicFrame object at 0x7faade75c210>\n",
					"output_type": "stream"
				}
			]
		},
		{
			"cell_type": "code",
			"source": "# write down the data in converted Dynamic Frame to S3 location.\nnytimes_data_in_usa_us_states_dyf = nytimes_data_in_usa_us_states_dyf.repartition(1)\nglueContext.write_dynamic_frame.from_options(\n                            frame = nytimes_data_in_usa_us_states_dyf,\n                            connection_type=\"s3\", \n                            connection_options = {\n                                \"path\": \"s3://khanhnv-covid19-result-bucket/output_result/\",\n                                \"partitionKeys\": []\n                            }, \n                            format = \"csv\", \n                            format_options={\n                                \"separator\": \",\"\n                                },\n                            transformation_ctx = \"datasink2\")",
			"metadata": {
				"trusted": true
			},
			"execution_count": 166,
			"outputs": [
				{
					"name": "stdout",
					"text": "<awsglue.dynamicframe.DynamicFrame object at 0x7faade75c750>\n",
					"output_type": "stream"
				}
			]
		},
		{
			"cell_type": "code",
			"source": "# write down the data in converted Dynamic Frame to S3 location.\nrearc_covid19_testing_states_daily_dyf = rearc_covid19_testing_states_daily_dyf.repartition(1)\nglueContext.write_dynamic_frame.from_options(\n                            frame = rearc_covid19_testing_states_daily_dyf,\n                            connection_type=\"s3\", \n                            connection_options = {\n                                \"path\": \"s3://khanhnv-covid19-result-bucket/output_result/\",\n                                \"partitionKeys\": []\n                            }, \n                            format = \"csv\", \n                            format_options={\n                                \"separator\": \",\"\n                                },\n                            transformation_ctx = \"datasink2\")",
			"metadata": {
				"trusted": true
			},
			"execution_count": 167,
			"outputs": [
				{
					"name": "stdout",
					"text": "<awsglue.dynamicframe.DynamicFrame object at 0x7faade75cc90>\n",
					"output_type": "stream"
				}
			]
		},
		{
			"cell_type": "code",
			"source": "# write down the data in converted Dynamic Frame to S3 location.\nrearc_covid19_testing_us_daily_dyf = rearc_covid19_testing_us_daily_dyf.repartition(1)\nglueContext.write_dynamic_frame.from_options(\n                            frame = rearc_covid19_testing_us_daily_dyf,\n                            connection_type=\"s3\", \n                            connection_options = {\n                                \"path\": \"s3://khanhnv-covid19-result-bucket/output_result/\",\n                                \"partitionKeys\": []\n                            }, \n                            format = \"csv\", \n                            format_options={\n                                \"separator\": \",\"\n                                },\n                            transformation_ctx = \"datasink2\")",
			"metadata": {
				"trusted": true
			},
			"execution_count": 168,
			"outputs": [
				{
					"name": "stdout",
					"text": "<awsglue.dynamicframe.DynamicFrame object at 0x7faade5e1210>\n",
					"output_type": "stream"
				}
			]
		},
		{
			"cell_type": "code",
			"source": "rearc_covid19_testing_us_total_latest_dyf = rearc_covid19_testing_us_total_latest_dyf.repartition(1)\nglueContext.write_dynamic_frame.from_options(\n                            frame = rearc_covid19_testing_us_total_latest_dyf,\n                            connection_type=\"s3\", \n                            connection_options = {\n                                \"path\": \"s3://khanhnv-covid19-result-bucket/output_result/\",\n                                \"partitionKeys\": []\n                            }, \n                            format = \"csv\", \n                            format_options={\n                                \"separator\": \",\"\n                                },\n                            transformation_ctx = \"datasink2\")",
			"metadata": {
				"trusted": true
			},
			"execution_count": 169,
			"outputs": [
				{
					"name": "stdout",
					"text": "<awsglue.dynamicframe.DynamicFrame object at 0x7faade5e1750>\n",
					"output_type": "stream"
				}
			]
		},
		{
			"cell_type": "code",
			"source": "rearc_usa_hospital_beds_dyf = rearc_usa_hospital_beds_dyf.repartition(1)\nglueContext.write_dynamic_frame.from_options(\n                            frame = rearc_usa_hospital_beds_dyf,\n                            connection_type=\"s3\", \n                            connection_options = {\n                                \"path\": \"s3://khanhnv-covid19-result-bucket/output_result/\",\n                                \"partitionKeys\": []\n                            }, \n                            format = \"csv\", \n                            format_options={\n                                \"separator\": \",\"\n                                },\n                            transformation_ctx = \"datasink2\")",
			"metadata": {
				"trusted": true
			},
			"execution_count": 170,
			"outputs": [
				{
					"name": "stdout",
					"text": "<awsglue.dynamicframe.DynamicFrame object at 0x7faade75c9d0>\n",
					"output_type": "stream"
				}
			]
		},
		{
			"cell_type": "code",
			"source": "static_dataset_countrycode_dyf = static_dataset_countrycode_dyf.repartition(1)\nglueContext.write_dynamic_frame.from_options(\n                            frame = static_dataset_countrycode_dyf,\n                            connection_type=\"s3\", \n                            connection_options = {\n                                \"path\": \"s3://khanhnv-covid19-result-bucket/output_result/\",\n                                \"partitionKeys\": []\n                            }, \n                            format = \"csv\", \n                            format_options={\n                                \"separator\": \",\"\n                                },\n                            transformation_ctx = \"datasink2\")",
			"metadata": {
				"trusted": true
			},
			"execution_count": 171,
			"outputs": [
				{
					"name": "stdout",
					"text": "<awsglue.dynamicframe.DynamicFrame object at 0x7faadfbca190>\n",
					"output_type": "stream"
				}
			]
		},
		{
			"cell_type": "code",
			"source": "static_dataset_countypopulation_dyf  = static_dataset_countypopulation_dyf.repartition(1)\nglueContext.write_dynamic_frame.from_options(\n                            frame = static_dataset_countypopulation_dyf,\n                            connection_type=\"s3\", \n                            connection_options = {\n                                \"path\": \"s3://khanhnv-covid19-result-bucket/output_result/\",\n                                \"partitionKeys\": []\n                            }, \n                            format = \"csv\", \n                            format_options={\n                                \"separator\": \",\"\n                                },\n                            transformation_ctx = \"datasink2\")",
			"metadata": {
				"trusted": true
			},
			"execution_count": 172,
			"outputs": [
				{
					"name": "stdout",
					"text": "<awsglue.dynamicframe.DynamicFrame object at 0x7faade758cd0>\n",
					"output_type": "stream"
				}
			]
		},
		{
			"cell_type": "code",
			"source": "static_dataset_state_abv_dyf = static_dataset_state_abv_dyf.repartition(1)\nglueContext.write_dynamic_frame.from_options(\n                            frame = static_dataset_state_abv_dyf,\n                            connection_type=\"s3\", \n                            connection_options = {\n                                \"path\": \"s3://khanhnv-covid19-result-bucket/output_result/\",\n                                \"partitionKeys\": []\n                            }, \n                            format = \"csv\", \n                            format_options={\n                                \"separator\": \",\"\n                                },\n                            transformation_ctx = \"datasink2\")",
			"metadata": {
				"trusted": true
			},
			"execution_count": 173,
			"outputs": [
				{
					"name": "stdout",
					"text": "<awsglue.dynamicframe.DynamicFrame object at 0x7faade758850>\n",
					"output_type": "stream"
				}
			]
		},
		{
			"cell_type": "code",
			"source": "",
			"metadata": {},
			"execution_count": null,
			"outputs": []
		}
	]
}