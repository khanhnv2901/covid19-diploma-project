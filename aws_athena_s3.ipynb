{
 "cells": [
  {
   "cell_type": "code",
   "execution_count": 1,
   "metadata": {},
   "outputs": [],
   "source": [
    "import boto3\n",
    "import pandas as pd\n",
    "from io import StringIO\n",
    "import time"
   ]
  },
  {
   "cell_type": "code",
   "execution_count": 2,
   "metadata": {},
   "outputs": [],
   "source": [
    "from dotenv import load_dotenv\n",
    "import os\n",
    "load_dotenv()\n",
    "AWS_ACCESS_KEY = os.getenv('AWS_ACCESS_KEY')\n",
    "AWS_SECRET_KEY = os.getenv('AWS_SECRET_KEY')\n",
    "AWS_REGION = os.getenv('AWS_REGION')\n",
    "SCHEMA_NAME = os.getenv('SCHEMA_NAME')\n",
    "S3_STAGING_DIR = os.getenv('S3_STAGING_DIR')\n",
    "S3_BUCKET_NAME = os.getenv('S3_BUCKET_NAME')\n",
    "S3_OUTPUT_DIRETORY = os.getenv('S3_OUTPUT_DIRETORY')\n",
    "S3_DIMENSION_CSV= os.getenv('S3_DIMENSION_CSV')"
   ]
  },
  {
   "cell_type": "code",
   "execution_count": 3,
   "metadata": {},
   "outputs": [
    {
     "data": {
      "text/plain": [
       "'covid19_database'"
      ]
     },
     "execution_count": 3,
     "metadata": {},
     "output_type": "execute_result"
    }
   ],
   "source": [
    "SCHEMA_NAME"
   ]
  },
  {
   "cell_type": "code",
   "execution_count": 4,
   "metadata": {},
   "outputs": [
    {
     "data": {
      "text/plain": [
       "'s3://khanhnv-covid19-test-bucket/output_result/'"
      ]
     },
     "execution_count": 4,
     "metadata": {},
     "output_type": "execute_result"
    }
   ],
   "source": [
    "S3_STAGING_DIR"
   ]
  },
  {
   "cell_type": "code",
   "execution_count": 5,
   "metadata": {},
   "outputs": [],
   "source": [
    "# creates an Athena client object with AWS credentials and region information.\n",
    "athena_client = boto3.client(\n",
    "    'athena',\n",
    "    aws_access_key_id=AWS_ACCESS_KEY,\n",
    "    aws_secret_access_key=AWS_SECRET_KEY,\n",
    "    region_name=AWS_REGION\n",
    ")"
   ]
  },
  {
   "cell_type": "code",
   "execution_count": 6,
   "metadata": {},
   "outputs": [],
   "source": [
    "dict = {} \n",
    "def download_and_load_query_results (\n",
    "    client: boto3.client, query_response: dict, table_name\n",
    ") -> pd.DataFrame:\n",
    "    \"\"\"\n",
    "    Download query results from Athena and load into a Pandas DataFrame.\n",
    "    \n",
    "    Args:\n",
    "        client: boto3 client.\n",
    "        query_response (dict): query response\n",
    "        table_name: name of table in database\n",
    "    Returns:\n",
    "        pd.DataFrame: Pandas DataFrame containing the query results.\n",
    "    \"\"\"\n",
    "    while True:\n",
    "        try:\n",
    "            # This func only loads the first 1000 rows\n",
    "            client.get_query_results (\n",
    "                QueryExecutionId=query_response[\"QueryExecutionId\"]\n",
    "            )\n",
    "            break\n",
    "        except Exception as err:\n",
    "            if \"not yet finished\" in str(err):\n",
    "                time.sleep(0.001)\n",
    "            else:\n",
    "                raise err\n",
    "    temp_file_location: str = f\"./query_result/{table_name}_results.csv\"\n",
    "    s3_client = boto3.client(\n",
    "        \"s3\",\n",
    "        aws_access_key_id=AWS_ACCESS_KEY,\n",
    "        aws_secret_access_key=AWS_SECRET_KEY,\n",
    "        region_name=AWS_REGION,\n",
    "    )\n",
    "    s3_client.download_file(\n",
    "        S3_BUCKET_NAME,\n",
    "        f\"{S3_OUTPUT_DIRETORY}/{query_response['QueryExecutionId']}.csv\",\n",
    "        temp_file_location,\n",
    "    )\n",
    "    return pd.read_csv(temp_file_location)"
   ]
  },
  {
   "cell_type": "code",
   "execution_count": 8,
   "metadata": {},
   "outputs": [],
   "source": [
    "response = athena_client.start_query_execution(\n",
    "    QueryString=\"SELECT * FROM cdc_pfizer_vaccine_distribution\",\n",
    "    QueryExecutionContext={\"Database\": SCHEMA_NAME},\n",
    "    ResultConfiguration={\n",
    "        \"OutputLocation\": S3_STAGING_DIR,\n",
    "        \"EncryptionConfiguration\": {\"EncryptionOption\": \"SSE_S3\"},\n",
    "    },\n",
    ")"
   ]
  },
  {
   "cell_type": "code",
   "execution_count": 9,
   "metadata": {},
   "outputs": [
    {
     "data": {
      "text/plain": [
       "{'QueryExecutionId': 'f3fcb88b-92e8-4cd9-8ba7-9212838cd8aa',\n",
       " 'ResponseMetadata': {'RequestId': '459b9ee8-3677-4164-b517-7a2c35903ad7',\n",
       "  'HTTPStatusCode': 200,\n",
       "  'HTTPHeaders': {'date': 'Tue, 25 Apr 2023 11:22:58 GMT',\n",
       "   'content-type': 'application/x-amz-json-1.1',\n",
       "   'content-length': '59',\n",
       "   'connection': 'keep-alive',\n",
       "   'x-amzn-requestid': '459b9ee8-3677-4164-b517-7a2c35903ad7'},\n",
       "  'RetryAttempts': 0}}"
      ]
     },
     "execution_count": 9,
     "metadata": {},
     "output_type": "execute_result"
    }
   ],
   "source": [
    "response"
   ]
  },
  {
   "cell_type": "code",
   "execution_count": 10,
   "metadata": {},
   "outputs": [],
   "source": [
    "def get_table_names_in_database():\n",
    "    \"\"\"\n",
    "    Retrieves the names of all tables in the Athena database specified by the SCHEMA_NAME environment variable.\n",
    "\n",
    "    Returns:\n",
    "\n",
    "    table_names (list): A list of table names in the Athena database.\n",
    "    \"\"\"\n",
    "    table_response = athena_client.start_query_execution(\n",
    "        QueryString=f\"SHOW TABLES IN {SCHEMA_NAME}\",\n",
    "        QueryExecutionContext={\"Database\": SCHEMA_NAME},\n",
    "        ResultConfiguration={\n",
    "            \"OutputLocation\": S3_STAGING_DIR,\n",
    "            \"EncryptionConfiguration\": {\"EncryptionOption\": \"SSE_S3\"},\n",
    "        },\n",
    "    )\n",
    "    # Get the query execution ID\n",
    "    query_execution_id = table_response['QueryExecutionId']\n",
    "\n",
    "    # Wait for the query to complete\n",
    "    while True:\n",
    "        status = athena_client.get_query_execution(QueryExecutionId=query_execution_id)['QueryExecution']['Status']['State']\n",
    "        if status in ['SUCCEEDED', 'FAILED', 'CANCELLED']:\n",
    "            break\n",
    "\n",
    "    # Get the query results\n",
    "    results = athena_client.get_query_results(QueryExecutionId=query_execution_id)\n",
    "\n",
    "    # Parse the table names\n",
    "    table_names = []\n",
    "    for row in results['ResultSet']['Rows'][0:]:\n",
    "        table_names.append(row['Data'][0]['VarCharValue'])\n",
    "\n",
    "    # Print the table names\n",
    "    return table_names"
   ]
  },
  {
   "cell_type": "code",
   "execution_count": 11,
   "metadata": {},
   "outputs": [],
   "source": [
    "def response_result_athena_query(table_name):\n",
    "    \"\"\"\n",
    "    Executes a query to retrieve all rows from a specified table in the Athena database specified by the SCHEMA_NAME environment variable.\n",
    "\n",
    "    Args:\n",
    "        table_name (str): Name of the table to query.\n",
    "    Returns:\n",
    "        csv file: A csv file will be stored in query_result folder.\n",
    "    \"\"\"\n",
    "    response = athena_client.start_query_execution(\n",
    "        QueryString=f\"SELECT * FROM {table_name}\",\n",
    "        QueryExecutionContext={\"Database\": SCHEMA_NAME},\n",
    "        ResultConfiguration={\n",
    "            \"OutputLocation\": S3_STAGING_DIR,\n",
    "            \"EncryptionConfiguration\": {\"EncryptionOption\": \"SSE_S3\"},\n",
    "        },\n",
    "    )\n",
    "    return download_and_load_query_results(athena_client, response, table_name)\n"
   ]
  },
  {
   "cell_type": "code",
   "execution_count": 12,
   "metadata": {},
   "outputs": [
    {
     "data": {
      "text/plain": [
       "['cdc_moderna_vaccine_distribution',\n",
       " 'cdc_pfizer_vaccine_distribution',\n",
       " 'enigma_jhu',\n",
       " 'nytimes_data_in_usa_us_county',\n",
       " 'nytimes_data_in_usa_us_state',\n",
       " 'rearc_covid19_testing_states_daily',\n",
       " 'rearc_covid19_testing_us_daily',\n",
       " 'rearc_covid19_testing_us_total_latest',\n",
       " 'rearc_usa_hospital_beds',\n",
       " 'static_dataset_countrycode',\n",
       " 'static_dataset_countypopulation',\n",
       " 'static_dataset_state_abv']"
      ]
     },
     "execution_count": 12,
     "metadata": {},
     "output_type": "execute_result"
    }
   ],
   "source": [
    "query_result_dict = {}\n",
    "table_names = get_table_names_in_database()\n",
    "table_names"
   ]
  },
  {
   "cell_type": "code",
   "execution_count": 15,
   "metadata": {},
   "outputs": [
    {
     "name": "stderr",
     "output_type": "stream",
     "text": [
      "C:\\Users\\guett\\AppData\\Local\\Temp\\ipykernel_18280\\1968086591.py:39: DtypeWarning: Columns (4,5,6,7,9,10,11) have mixed types. Specify dtype option on import or set low_memory=False.\n",
      "  return pd.read_csv(temp_file_location)\n"
     ]
    }
   ],
   "source": [
    "for table_name in table_names:\n",
    "    query_result_dict[f\"{table_name}\"] = response_result_athena_query(table_name)"
   ]
  },
  {
   "cell_type": "code",
   "execution_count": 16,
   "metadata": {},
   "outputs": [
    {
     "data": {
      "text/plain": [
       "dict_keys(['cdc_moderna_vaccine_distribution', 'cdc_pfizer_vaccine_distribution', 'enigma_jhu', 'nytimes_data_in_usa_us_county', 'nytimes_data_in_usa_us_state', 'rearc_covid19_testing_states_daily', 'rearc_covid19_testing_us_daily', 'rearc_covid19_testing_us_total_latest', 'rearc_usa_hospital_beds', 'static_dataset_countrycode', 'static_dataset_countypopulation', 'static_dataset_state_abv'])"
      ]
     },
     "execution_count": 16,
     "metadata": {},
     "output_type": "execute_result"
    }
   ],
   "source": [
    "query_result_dict.keys()"
   ]
  },
  {
   "cell_type": "code",
   "execution_count": 17,
   "metadata": {},
   "outputs": [
    {
     "data": {
      "text/html": [
       "<div>\n",
       "<style scoped>\n",
       "    .dataframe tbody tr th:only-of-type {\n",
       "        vertical-align: middle;\n",
       "    }\n",
       "\n",
       "    .dataframe tbody tr th {\n",
       "        vertical-align: top;\n",
       "    }\n",
       "\n",
       "    .dataframe thead th {\n",
       "        text-align: right;\n",
       "    }\n",
       "</style>\n",
       "<table border=\"1\" class=\"dataframe\">\n",
       "  <thead>\n",
       "    <tr style=\"text-align: right;\">\n",
       "      <th></th>\n",
       "      <th>col0</th>\n",
       "      <th>col1</th>\n",
       "    </tr>\n",
       "  </thead>\n",
       "  <tbody>\n",
       "    <tr>\n",
       "      <th>0</th>\n",
       "      <td>col0</td>\n",
       "      <td>col1</td>\n",
       "    </tr>\n",
       "    <tr>\n",
       "      <th>1</th>\n",
       "      <td>State</td>\n",
       "      <td>Abbreviation</td>\n",
       "    </tr>\n",
       "    <tr>\n",
       "      <th>2</th>\n",
       "      <td>Alabama</td>\n",
       "      <td>AL</td>\n",
       "    </tr>\n",
       "    <tr>\n",
       "      <th>3</th>\n",
       "      <td>Alaska</td>\n",
       "      <td>AK</td>\n",
       "    </tr>\n",
       "    <tr>\n",
       "      <th>4</th>\n",
       "      <td>Arizona</td>\n",
       "      <td>AZ</td>\n",
       "    </tr>\n",
       "  </tbody>\n",
       "</table>\n",
       "</div>"
      ],
      "text/plain": [
       "      col0          col1\n",
       "0     col0          col1\n",
       "1    State  Abbreviation\n",
       "2  Alabama            AL\n",
       "3   Alaska            AK\n",
       "4  Arizona            AZ"
      ]
     },
     "execution_count": 17,
     "metadata": {},
     "output_type": "execute_result"
    }
   ],
   "source": [
    "query_result_dict['static_dataset_state_abv'].head()"
   ]
  },
  {
   "cell_type": "code",
   "execution_count": 18,
   "metadata": {},
   "outputs": [],
   "source": [
    "query_result_dict['static_dataset_state_abv'] = query_result_dict['static_dataset_state_abv'].drop(0)"
   ]
  },
  {
   "cell_type": "code",
   "execution_count": 19,
   "metadata": {},
   "outputs": [
    {
     "data": {
      "text/html": [
       "<div>\n",
       "<style scoped>\n",
       "    .dataframe tbody tr th:only-of-type {\n",
       "        vertical-align: middle;\n",
       "    }\n",
       "\n",
       "    .dataframe tbody tr th {\n",
       "        vertical-align: top;\n",
       "    }\n",
       "\n",
       "    .dataframe thead th {\n",
       "        text-align: right;\n",
       "    }\n",
       "</style>\n",
       "<table border=\"1\" class=\"dataframe\">\n",
       "  <thead>\n",
       "    <tr style=\"text-align: right;\">\n",
       "      <th></th>\n",
       "      <th>col0</th>\n",
       "      <th>col1</th>\n",
       "    </tr>\n",
       "  </thead>\n",
       "  <tbody>\n",
       "    <tr>\n",
       "      <th>1</th>\n",
       "      <td>State</td>\n",
       "      <td>Abbreviation</td>\n",
       "    </tr>\n",
       "    <tr>\n",
       "      <th>2</th>\n",
       "      <td>Alabama</td>\n",
       "      <td>AL</td>\n",
       "    </tr>\n",
       "    <tr>\n",
       "      <th>3</th>\n",
       "      <td>Alaska</td>\n",
       "      <td>AK</td>\n",
       "    </tr>\n",
       "    <tr>\n",
       "      <th>4</th>\n",
       "      <td>Arizona</td>\n",
       "      <td>AZ</td>\n",
       "    </tr>\n",
       "    <tr>\n",
       "      <th>5</th>\n",
       "      <td>Arkansas</td>\n",
       "      <td>AR</td>\n",
       "    </tr>\n",
       "  </tbody>\n",
       "</table>\n",
       "</div>"
      ],
      "text/plain": [
       "       col0          col1\n",
       "1     State  Abbreviation\n",
       "2   Alabama            AL\n",
       "3    Alaska            AK\n",
       "4   Arizona            AZ\n",
       "5  Arkansas            AR"
      ]
     },
     "execution_count": 19,
     "metadata": {},
     "output_type": "execute_result"
    }
   ],
   "source": [
    "query_result_dict['static_dataset_state_abv'].head()"
   ]
  },
  {
   "cell_type": "code",
   "execution_count": 20,
   "metadata": {},
   "outputs": [
    {
     "data": {
      "text/plain": [
       "col0           State\n",
       "col1    Abbreviation\n",
       "Name: 1, dtype: object"
      ]
     },
     "execution_count": 20,
     "metadata": {},
     "output_type": "execute_result"
    }
   ],
   "source": [
    "# grab the first row for the new header\n",
    "new_header = query_result_dict['static_dataset_state_abv'].iloc[0]\n",
    "new_header"
   ]
  },
  {
   "cell_type": "code",
   "execution_count": 21,
   "metadata": {},
   "outputs": [
    {
     "data": {
      "text/html": [
       "<div>\n",
       "<style scoped>\n",
       "    .dataframe tbody tr th:only-of-type {\n",
       "        vertical-align: middle;\n",
       "    }\n",
       "\n",
       "    .dataframe tbody tr th {\n",
       "        vertical-align: top;\n",
       "    }\n",
       "\n",
       "    .dataframe thead th {\n",
       "        text-align: right;\n",
       "    }\n",
       "</style>\n",
       "<table border=\"1\" class=\"dataframe\">\n",
       "  <thead>\n",
       "    <tr style=\"text-align: right;\">\n",
       "      <th></th>\n",
       "      <th>col0</th>\n",
       "      <th>col1</th>\n",
       "    </tr>\n",
       "  </thead>\n",
       "  <tbody>\n",
       "    <tr>\n",
       "      <th>2</th>\n",
       "      <td>Alabama</td>\n",
       "      <td>AL</td>\n",
       "    </tr>\n",
       "    <tr>\n",
       "      <th>3</th>\n",
       "      <td>Alaska</td>\n",
       "      <td>AK</td>\n",
       "    </tr>\n",
       "    <tr>\n",
       "      <th>4</th>\n",
       "      <td>Arizona</td>\n",
       "      <td>AZ</td>\n",
       "    </tr>\n",
       "    <tr>\n",
       "      <th>5</th>\n",
       "      <td>Arkansas</td>\n",
       "      <td>AR</td>\n",
       "    </tr>\n",
       "    <tr>\n",
       "      <th>6</th>\n",
       "      <td>California</td>\n",
       "      <td>CA</td>\n",
       "    </tr>\n",
       "  </tbody>\n",
       "</table>\n",
       "</div>"
      ],
      "text/plain": [
       "         col0 col1\n",
       "2     Alabama   AL\n",
       "3      Alaska   AK\n",
       "4     Arizona   AZ\n",
       "5    Arkansas   AR\n",
       "6  California   CA"
      ]
     },
     "execution_count": 21,
     "metadata": {},
     "output_type": "execute_result"
    }
   ],
   "source": [
    "# take the data less the header row\n",
    "query_result_dict['static_dataset_state_abv'] = query_result_dict['static_dataset_state_abv'][1:]\n",
    "query_result_dict['static_dataset_state_abv'].head()"
   ]
  },
  {
   "cell_type": "code",
   "execution_count": 22,
   "metadata": {},
   "outputs": [
    {
     "data": {
      "text/html": [
       "<div>\n",
       "<style scoped>\n",
       "    .dataframe tbody tr th:only-of-type {\n",
       "        vertical-align: middle;\n",
       "    }\n",
       "\n",
       "    .dataframe tbody tr th {\n",
       "        vertical-align: top;\n",
       "    }\n",
       "\n",
       "    .dataframe thead th {\n",
       "        text-align: right;\n",
       "    }\n",
       "</style>\n",
       "<table border=\"1\" class=\"dataframe\">\n",
       "  <thead>\n",
       "    <tr style=\"text-align: right;\">\n",
       "      <th>1</th>\n",
       "      <th>State</th>\n",
       "      <th>Abbreviation</th>\n",
       "    </tr>\n",
       "  </thead>\n",
       "  <tbody>\n",
       "    <tr>\n",
       "      <th>2</th>\n",
       "      <td>Alabama</td>\n",
       "      <td>AL</td>\n",
       "    </tr>\n",
       "    <tr>\n",
       "      <th>3</th>\n",
       "      <td>Alaska</td>\n",
       "      <td>AK</td>\n",
       "    </tr>\n",
       "    <tr>\n",
       "      <th>4</th>\n",
       "      <td>Arizona</td>\n",
       "      <td>AZ</td>\n",
       "    </tr>\n",
       "    <tr>\n",
       "      <th>5</th>\n",
       "      <td>Arkansas</td>\n",
       "      <td>AR</td>\n",
       "    </tr>\n",
       "    <tr>\n",
       "      <th>6</th>\n",
       "      <td>California</td>\n",
       "      <td>CA</td>\n",
       "    </tr>\n",
       "  </tbody>\n",
       "</table>\n",
       "</div>"
      ],
      "text/plain": [
       "1       State Abbreviation\n",
       "2     Alabama           AL\n",
       "3      Alaska           AK\n",
       "4     Arizona           AZ\n",
       "5    Arkansas           AR\n",
       "6  California           CA"
      ]
     },
     "execution_count": 22,
     "metadata": {},
     "output_type": "execute_result"
    }
   ],
   "source": [
    "# set the header row as the df header\n",
    "query_result_dict['static_dataset_state_abv'].columns = new_header\n",
    "query_result_dict['static_dataset_state_abv'].head()"
   ]
  },
  {
   "cell_type": "code",
   "execution_count": 24,
   "metadata": {},
   "outputs": [
    {
     "data": {
      "text/html": [
       "<div>\n",
       "<style scoped>\n",
       "    .dataframe tbody tr th:only-of-type {\n",
       "        vertical-align: middle;\n",
       "    }\n",
       "\n",
       "    .dataframe tbody tr th {\n",
       "        vertical-align: top;\n",
       "    }\n",
       "\n",
       "    .dataframe thead th {\n",
       "        text-align: right;\n",
       "    }\n",
       "</style>\n",
       "<table border=\"1\" class=\"dataframe\">\n",
       "  <thead>\n",
       "    <tr style=\"text-align: right;\">\n",
       "      <th></th>\n",
       "      <th>jurisdiction</th>\n",
       "      <th>week_of_allocations</th>\n",
       "      <th>_1st_dose_allocations</th>\n",
       "      <th>_2nd_dose_allocations</th>\n",
       "    </tr>\n",
       "  </thead>\n",
       "  <tbody>\n",
       "    <tr>\n",
       "      <th>1</th>\n",
       "      <td>Connecticut</td>\n",
       "      <td>2021-06-21T00:00:00.000</td>\n",
       "      <td>41220</td>\n",
       "      <td>41220</td>\n",
       "    </tr>\n",
       "    <tr>\n",
       "      <th>2</th>\n",
       "      <td>Maine</td>\n",
       "      <td>2021-06-21T00:00:00.000</td>\n",
       "      <td>15800</td>\n",
       "      <td>15800</td>\n",
       "    </tr>\n",
       "    <tr>\n",
       "      <th>3</th>\n",
       "      <td>Massachusetts</td>\n",
       "      <td>2021-06-21T00:00:00.000</td>\n",
       "      <td>79500</td>\n",
       "      <td>79500</td>\n",
       "    </tr>\n",
       "    <tr>\n",
       "      <th>4</th>\n",
       "      <td>New Hampshire</td>\n",
       "      <td>2021-06-21T00:00:00.000</td>\n",
       "      <td>15800</td>\n",
       "      <td>15800</td>\n",
       "    </tr>\n",
       "    <tr>\n",
       "      <th>5</th>\n",
       "      <td>Rhode Island</td>\n",
       "      <td>2021-06-21T00:00:00.000</td>\n",
       "      <td>12480</td>\n",
       "      <td>12480</td>\n",
       "    </tr>\n",
       "  </tbody>\n",
       "</table>\n",
       "</div>"
      ],
      "text/plain": [
       "    jurisdiction      week_of_allocations _1st_dose_allocations   \n",
       "1    Connecticut  2021-06-21T00:00:00.000                 41220  \\\n",
       "2          Maine  2021-06-21T00:00:00.000                 15800   \n",
       "3  Massachusetts  2021-06-21T00:00:00.000                 79500   \n",
       "4  New Hampshire  2021-06-21T00:00:00.000                 15800   \n",
       "5   Rhode Island  2021-06-21T00:00:00.000                 12480   \n",
       "\n",
       "  _2nd_dose_allocations  \n",
       "1                 41220  \n",
       "2                 15800  \n",
       "3                 79500  \n",
       "4                 15800  \n",
       "5                 12480  "
      ]
     },
     "execution_count": 24,
     "metadata": {},
     "output_type": "execute_result"
    }
   ],
   "source": [
    "query_result_dict['cdc_moderna_vaccine_distribution'] = query_result_dict['cdc_moderna_vaccine_distribution'].drop(0)\n",
    "query_result_dict['cdc_moderna_vaccine_distribution'].head()"
   ]
  },
  {
   "cell_type": "code",
   "execution_count": 25,
   "metadata": {},
   "outputs": [
    {
     "data": {
      "text/html": [
       "<div>\n",
       "<style scoped>\n",
       "    .dataframe tbody tr th:only-of-type {\n",
       "        vertical-align: middle;\n",
       "    }\n",
       "\n",
       "    .dataframe tbody tr th {\n",
       "        vertical-align: top;\n",
       "    }\n",
       "\n",
       "    .dataframe thead th {\n",
       "        text-align: right;\n",
       "    }\n",
       "</style>\n",
       "<table border=\"1\" class=\"dataframe\">\n",
       "  <thead>\n",
       "    <tr style=\"text-align: right;\">\n",
       "      <th></th>\n",
       "      <th>jurisdiction</th>\n",
       "      <th>week_of_allocations</th>\n",
       "      <th>_1st_dose_allocations</th>\n",
       "      <th>_2nd_dose_allocations</th>\n",
       "    </tr>\n",
       "  </thead>\n",
       "  <tbody>\n",
       "    <tr>\n",
       "      <th>1</th>\n",
       "      <td>Connecticut</td>\n",
       "      <td>2021-06-21T00:00:00.000</td>\n",
       "      <td>54360</td>\n",
       "      <td>54360</td>\n",
       "    </tr>\n",
       "    <tr>\n",
       "      <th>2</th>\n",
       "      <td>Maine</td>\n",
       "      <td>2021-06-21T00:00:00.000</td>\n",
       "      <td>21420</td>\n",
       "      <td>21420</td>\n",
       "    </tr>\n",
       "    <tr>\n",
       "      <th>3</th>\n",
       "      <td>Massachusetts</td>\n",
       "      <td>2021-06-21T00:00:00.000</td>\n",
       "      <td>104580</td>\n",
       "      <td>104580</td>\n",
       "    </tr>\n",
       "    <tr>\n",
       "      <th>4</th>\n",
       "      <td>New Hampshire</td>\n",
       "      <td>2021-06-21T00:00:00.000</td>\n",
       "      <td>21420</td>\n",
       "      <td>21420</td>\n",
       "    </tr>\n",
       "    <tr>\n",
       "      <th>5</th>\n",
       "      <td>Rhode Island</td>\n",
       "      <td>2021-06-21T00:00:00.000</td>\n",
       "      <td>17280</td>\n",
       "      <td>17280</td>\n",
       "    </tr>\n",
       "  </tbody>\n",
       "</table>\n",
       "</div>"
      ],
      "text/plain": [
       "    jurisdiction      week_of_allocations _1st_dose_allocations   \n",
       "1    Connecticut  2021-06-21T00:00:00.000                 54360  \\\n",
       "2          Maine  2021-06-21T00:00:00.000                 21420   \n",
       "3  Massachusetts  2021-06-21T00:00:00.000                104580   \n",
       "4  New Hampshire  2021-06-21T00:00:00.000                 21420   \n",
       "5   Rhode Island  2021-06-21T00:00:00.000                 17280   \n",
       "\n",
       "  _2nd_dose_allocations  \n",
       "1                 54360  \n",
       "2                 21420  \n",
       "3                104580  \n",
       "4                 21420  \n",
       "5                 17280  "
      ]
     },
     "execution_count": 25,
     "metadata": {},
     "output_type": "execute_result"
    }
   ],
   "source": [
    "query_result_dict['cdc_pfizer_vaccine_distribution'] = query_result_dict['cdc_pfizer_vaccine_distribution'].drop(0)\n",
    "query_result_dict['cdc_pfizer_vaccine_distribution'].head()"
   ]
  },
  {
   "cell_type": "code",
   "execution_count": 30,
   "metadata": {},
   "outputs": [
    {
     "data": {
      "text/html": [
       "<div>\n",
       "<style scoped>\n",
       "    .dataframe tbody tr th:only-of-type {\n",
       "        vertical-align: middle;\n",
       "    }\n",
       "\n",
       "    .dataframe tbody tr th {\n",
       "        vertical-align: top;\n",
       "    }\n",
       "\n",
       "    .dataframe thead th {\n",
       "        text-align: right;\n",
       "    }\n",
       "</style>\n",
       "<table border=\"1\" class=\"dataframe\">\n",
       "  <thead>\n",
       "    <tr style=\"text-align: right;\">\n",
       "      <th></th>\n",
       "      <th>county</th>\n",
       "      <th>province_state</th>\n",
       "      <th>country_region</th>\n",
       "      <th>last_update</th>\n",
       "      <th>latitude</th>\n",
       "      <th>longitude</th>\n",
       "      <th>confirmed</th>\n",
       "      <th>active</th>\n",
       "      <th>combined_key</th>\n",
       "      <th>recovered</th>\n",
       "      <th>deaths</th>\n",
       "      <th>county_fips</th>\n",
       "    </tr>\n",
       "  </thead>\n",
       "  <tbody>\n",
       "    <tr>\n",
       "      <th>1</th>\n",
       "      <td>San Benito</td>\n",
       "      <td>California</td>\n",
       "      <td>US</td>\n",
       "      <td>2020-02-03T03:53:02</td>\n",
       "      <td>36.576</td>\n",
       "      <td>-120.988</td>\n",
       "      <td>2</td>\n",
       "      <td>0</td>\n",
       "      <td>San Benito, California, US</td>\n",
       "      <td>0</td>\n",
       "      <td>0</td>\n",
       "      <td>06069</td>\n",
       "    </tr>\n",
       "    <tr>\n",
       "      <th>2</th>\n",
       "      <td>King</td>\n",
       "      <td>Washington</td>\n",
       "      <td>US</td>\n",
       "      <td>2020-03-02T20:23:16</td>\n",
       "      <td>47.548</td>\n",
       "      <td>-121.984</td>\n",
       "      <td>14</td>\n",
       "      <td>0</td>\n",
       "      <td>King, Washington, US</td>\n",
       "      <td>1</td>\n",
       "      <td>5</td>\n",
       "      <td>53033</td>\n",
       "    </tr>\n",
       "    <tr>\n",
       "      <th>3</th>\n",
       "      <td>King</td>\n",
       "      <td>Washington</td>\n",
       "      <td>US</td>\n",
       "      <td>2020-03-04T19:53:02</td>\n",
       "      <td>47.548</td>\n",
       "      <td>-121.984</td>\n",
       "      <td>31</td>\n",
       "      <td>0</td>\n",
       "      <td>King, Washington, US</td>\n",
       "      <td>1</td>\n",
       "      <td>9</td>\n",
       "      <td>53033</td>\n",
       "    </tr>\n",
       "    <tr>\n",
       "      <th>4</th>\n",
       "      <td>Snohomish</td>\n",
       "      <td>Washington</td>\n",
       "      <td>US</td>\n",
       "      <td>2020-03-04T19:53:02</td>\n",
       "      <td>48.033</td>\n",
       "      <td>-121.834</td>\n",
       "      <td>8</td>\n",
       "      <td>0</td>\n",
       "      <td>Snohomish, Washington, US</td>\n",
       "      <td>0</td>\n",
       "      <td>1</td>\n",
       "      <td>53061</td>\n",
       "    </tr>\n",
       "    <tr>\n",
       "      <th>5</th>\n",
       "      <td>Contra Costa</td>\n",
       "      <td>California</td>\n",
       "      <td>US</td>\n",
       "      <td>2020-03-06T19:43:02</td>\n",
       "      <td>37.853</td>\n",
       "      <td>-121.902</td>\n",
       "      <td>3</td>\n",
       "      <td>0</td>\n",
       "      <td>Contra Costa, California, US</td>\n",
       "      <td>0</td>\n",
       "      <td>0</td>\n",
       "      <td>06013</td>\n",
       "    </tr>\n",
       "  </tbody>\n",
       "</table>\n",
       "</div>"
      ],
      "text/plain": [
       "         county province_state country_region          last_update latitude   \n",
       "1    San Benito     California             US  2020-02-03T03:53:02   36.576  \\\n",
       "2          King     Washington             US  2020-03-02T20:23:16   47.548   \n",
       "3          King     Washington             US  2020-03-04T19:53:02   47.548   \n",
       "4     Snohomish     Washington             US  2020-03-04T19:53:02   48.033   \n",
       "5  Contra Costa     California             US  2020-03-06T19:43:02   37.853   \n",
       "\n",
       "  longitude confirmed active                  combined_key recovered deaths   \n",
       "1  -120.988         2      0    San Benito, California, US         0      0  \\\n",
       "2  -121.984        14      0          King, Washington, US         1      5   \n",
       "3  -121.984        31      0          King, Washington, US         1      9   \n",
       "4  -121.834         8      0     Snohomish, Washington, US         0      1   \n",
       "5  -121.902         3      0  Contra Costa, California, US         0      0   \n",
       "\n",
       "  county_fips  \n",
       "1       06069  \n",
       "2       53033  \n",
       "3       53033  \n",
       "4       53061  \n",
       "5       06013  "
      ]
     },
     "execution_count": 30,
     "metadata": {},
     "output_type": "execute_result"
    }
   ],
   "source": [
    "query_result_dict['enigma_jhu'] = query_result_dict['enigma_jhu'].drop(0)\n",
    "query_result_dict['enigma_jhu'].head()"
   ]
  },
  {
   "attachments": {},
   "cell_type": "markdown",
   "metadata": {},
   "source": [
    "### Handle missing value "
   ]
  },
  {
   "cell_type": "code",
   "execution_count": 31,
   "metadata": {},
   "outputs": [],
   "source": [
    "# check through dataframes include in query_result_dict\n",
    "# whether dataframe has columns that contain null/NaN value\n",
    "# then replace with 0\n",
    "for df_name, df in query_result_dict.items():\n",
    "    if df.isnull().values.any():\n",
    "        df = df.fillna(0)\n",
    "        query_result_dict[df_name] = df"
   ]
  },
  {
   "cell_type": "code",
   "execution_count": 32,
   "metadata": {},
   "outputs": [],
   "source": [
    "for df_name, df in query_result_dict.items():\n",
    "    query_result_dict[df_name].to_csv(f'./query_result/{df_name}_results.csv', index=False)"
   ]
  },
  {
   "attachments": {},
   "cell_type": "markdown",
   "metadata": {},
   "source": [
    "#### Handle quotes symbol in data"
   ]
  },
  {
   "cell_type": "code",
   "execution_count": 33,
   "metadata": {},
   "outputs": [],
   "source": [
    "for key in query_result_dict:\n",
    "    df = query_result_dict[key]\n",
    "    df = df.applymap(lambda x: x.replace('\"', '') if isinstance(x, str) else x)\n",
    "    query_result_dict[key] = df"
   ]
  },
  {
   "cell_type": "code",
   "execution_count": 34,
   "metadata": {},
   "outputs": [
    {
     "data": {
      "text/html": [
       "<div>\n",
       "<style scoped>\n",
       "    .dataframe tbody tr th:only-of-type {\n",
       "        vertical-align: middle;\n",
       "    }\n",
       "\n",
       "    .dataframe tbody tr th {\n",
       "        vertical-align: top;\n",
       "    }\n",
       "\n",
       "    .dataframe thead th {\n",
       "        text-align: right;\n",
       "    }\n",
       "</style>\n",
       "<table border=\"1\" class=\"dataframe\">\n",
       "  <thead>\n",
       "    <tr style=\"text-align: right;\">\n",
       "      <th></th>\n",
       "      <th>county</th>\n",
       "      <th>province_state</th>\n",
       "      <th>country_region</th>\n",
       "      <th>last_update</th>\n",
       "      <th>latitude</th>\n",
       "      <th>longitude</th>\n",
       "      <th>confirmed</th>\n",
       "      <th>active</th>\n",
       "      <th>combined_key</th>\n",
       "      <th>recovered</th>\n",
       "      <th>deaths</th>\n",
       "      <th>county_fips</th>\n",
       "    </tr>\n",
       "  </thead>\n",
       "  <tbody>\n",
       "    <tr>\n",
       "      <th>1</th>\n",
       "      <td>San Benito</td>\n",
       "      <td>California</td>\n",
       "      <td>US</td>\n",
       "      <td>2020-02-03T03:53:02</td>\n",
       "      <td>36.576</td>\n",
       "      <td>-120.988</td>\n",
       "      <td>2</td>\n",
       "      <td>0</td>\n",
       "      <td>San Benito, California, US</td>\n",
       "      <td>0</td>\n",
       "      <td>0</td>\n",
       "      <td>06069</td>\n",
       "    </tr>\n",
       "    <tr>\n",
       "      <th>2</th>\n",
       "      <td>King</td>\n",
       "      <td>Washington</td>\n",
       "      <td>US</td>\n",
       "      <td>2020-03-02T20:23:16</td>\n",
       "      <td>47.548</td>\n",
       "      <td>-121.984</td>\n",
       "      <td>14</td>\n",
       "      <td>0</td>\n",
       "      <td>King, Washington, US</td>\n",
       "      <td>1</td>\n",
       "      <td>5</td>\n",
       "      <td>53033</td>\n",
       "    </tr>\n",
       "    <tr>\n",
       "      <th>3</th>\n",
       "      <td>King</td>\n",
       "      <td>Washington</td>\n",
       "      <td>US</td>\n",
       "      <td>2020-03-04T19:53:02</td>\n",
       "      <td>47.548</td>\n",
       "      <td>-121.984</td>\n",
       "      <td>31</td>\n",
       "      <td>0</td>\n",
       "      <td>King, Washington, US</td>\n",
       "      <td>1</td>\n",
       "      <td>9</td>\n",
       "      <td>53033</td>\n",
       "    </tr>\n",
       "    <tr>\n",
       "      <th>4</th>\n",
       "      <td>Snohomish</td>\n",
       "      <td>Washington</td>\n",
       "      <td>US</td>\n",
       "      <td>2020-03-04T19:53:02</td>\n",
       "      <td>48.033</td>\n",
       "      <td>-121.834</td>\n",
       "      <td>8</td>\n",
       "      <td>0</td>\n",
       "      <td>Snohomish, Washington, US</td>\n",
       "      <td>0</td>\n",
       "      <td>1</td>\n",
       "      <td>53061</td>\n",
       "    </tr>\n",
       "    <tr>\n",
       "      <th>5</th>\n",
       "      <td>Contra Costa</td>\n",
       "      <td>California</td>\n",
       "      <td>US</td>\n",
       "      <td>2020-03-06T19:43:02</td>\n",
       "      <td>37.853</td>\n",
       "      <td>-121.902</td>\n",
       "      <td>3</td>\n",
       "      <td>0</td>\n",
       "      <td>Contra Costa, California, US</td>\n",
       "      <td>0</td>\n",
       "      <td>0</td>\n",
       "      <td>06013</td>\n",
       "    </tr>\n",
       "  </tbody>\n",
       "</table>\n",
       "</div>"
      ],
      "text/plain": [
       "         county province_state country_region          last_update latitude   \n",
       "1    San Benito     California             US  2020-02-03T03:53:02   36.576  \\\n",
       "2          King     Washington             US  2020-03-02T20:23:16   47.548   \n",
       "3          King     Washington             US  2020-03-04T19:53:02   47.548   \n",
       "4     Snohomish     Washington             US  2020-03-04T19:53:02   48.033   \n",
       "5  Contra Costa     California             US  2020-03-06T19:43:02   37.853   \n",
       "\n",
       "  longitude confirmed active                  combined_key recovered deaths   \n",
       "1  -120.988         2      0    San Benito, California, US         0      0  \\\n",
       "2  -121.984        14      0          King, Washington, US         1      5   \n",
       "3  -121.984        31      0          King, Washington, US         1      9   \n",
       "4  -121.834         8      0     Snohomish, Washington, US         0      1   \n",
       "5  -121.902         3      0  Contra Costa, California, US         0      0   \n",
       "\n",
       "  county_fips  \n",
       "1       06069  \n",
       "2       53033  \n",
       "3       53033  \n",
       "4       53061  \n",
       "5       06013  "
      ]
     },
     "execution_count": 34,
     "metadata": {},
     "output_type": "execute_result"
    }
   ],
   "source": [
    "query_result_dict['enigma_jhu'].head()"
   ]
  },
  {
   "cell_type": "code",
   "execution_count": 35,
   "metadata": {},
   "outputs": [],
   "source": [
    "# write down to csv\n",
    "for df_name, df in query_result_dict.items():\n",
    "    query_result_dict[df_name].to_csv(f'./query_result/{df_name}_results.csv', index=False)"
   ]
  }
 ],
 "metadata": {
  "kernelspec": {
   "display_name": "Python 3",
   "language": "python",
   "name": "python3"
  },
  "language_info": {
   "codemirror_mode": {
    "name": "ipython",
    "version": 3
   },
   "file_extension": ".py",
   "mimetype": "text/x-python",
   "name": "python",
   "nbconvert_exporter": "python",
   "pygments_lexer": "ipython3",
   "version": "3.11.3"
  },
  "orig_nbformat": 4
 },
 "nbformat": 4,
 "nbformat_minor": 2
}
